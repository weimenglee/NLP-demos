{
 "cells": [
  {
   "cell_type": "code",
   "execution_count": null,
   "id": "4f979d12-765d-41e9-9ec3-eb7b75a16553",
   "metadata": {},
   "outputs": [],
   "source": [
    "!pip install accelerate \n",
    "!pip install transformers\n",
    "!pip install sentencepiece\n",
    "!pip install gradio\n",
    "!pip install gensim\n",
    "!pip install nltk\n",
    "!pip install scipy==1.10.1\n",
    "!pip install pandas\n",
    "!pip install timm\n",
    "!pip install pillow\n",
    "!pip install matplotlib\n",
    "!pip install scikit-learn"
   ]
  },
  {
   "cell_type": "code",
   "execution_count": null,
   "id": "24c682cc-aa5a-489c-a7bf-b02ddfde7b35",
   "metadata": {},
   "outputs": [],
   "source": [
    "pipeline('text-classification', model = 'distilbert-base-uncased-finetuned-sst-2-english', revision = 'af0f99b')\n",
    "pipeline('ner', aggregation_strategy = 'simple')\n",
    "pipeline('summarization')\n",
    "pipeline('translation_en_to_fr', model = 'google-t5/t5-base')\n",
    "pipeline('translation_en_to_zh', model = 'facebook/m2m100_418M')\n",
    "pipeline(\"object-detection\", model = \"facebook/detr-resnet-50\")"
   ]
  }
 ],
 "metadata": {
  "kernelspec": {
   "display_name": "Python 3 (ipykernel)",
   "language": "python",
   "name": "python3"
  },
  "language_info": {
   "codemirror_mode": {
    "name": "ipython",
    "version": 3
   },
   "file_extension": ".py",
   "mimetype": "text/x-python",
   "name": "python",
   "nbconvert_exporter": "python",
   "pygments_lexer": "ipython3",
   "version": "3.12.2"
  }
 },
 "nbformat": 4,
 "nbformat_minor": 5
}
