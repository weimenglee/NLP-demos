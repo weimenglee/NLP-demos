{
 "cells": [
  {
   "cell_type": "code",
   "execution_count": null,
   "id": "37149499",
   "metadata": {},
   "outputs": [],
   "source": [
    "!pip install transformers\n",
    "!pip install timm\n",
    "!pip install pillow"
   ]
  },
  {
   "cell_type": "code",
   "execution_count": null,
   "id": "13d444b3",
   "metadata": {},
   "outputs": [],
   "source": [
    "import gradio as gr\n",
    "from PIL import Image, ImageDraw\n",
    "from transformers import pipeline\n",
    "\n",
    "# Load the object detection pipeline\n",
    "detector = pipeline(\"object-detection\", \n",
    "                    model = \"facebook/detr-resnet-50\")\n",
    "\n",
    "def detect_objects(image):\n",
    "    results = detector(image)\n",
    "    img = image.copy()\n",
    "    draw = ImageDraw.Draw(img)\n",
    "    for obj in results:\n",
    "        box = obj['box']\n",
    "        label = f\"{obj['label']} ({obj['score']:.2f})\"\n",
    "        draw.rectangle([box['xmin'], box['ymin'], box['xmax'], box['ymax']], outline=\"red\", width=3)\n",
    "        draw.text((box['xmin'], box['ymin'] - 10), label, fill=\"red\")\n",
    "    return img\n",
    "\n",
    "gr.Interface(\n",
    "    fn = detect_objects,\n",
    "    inputs = gr.Image(type=\"pil\"),\n",
    "    outputs = gr.Image(type=\"pil\"),\n",
    "    title = \"Object Detection with Hugging Face DETR\",\n",
    "    description = \"Upload an image and detect objects using a pretrained DETR model.\"\n",
    ").launch()"
   ]
  },
  {
   "cell_type": "code",
   "execution_count": null,
   "id": "e2a8582c-b8bb-466c-ab24-2d353c7b8cb2",
   "metadata": {},
   "outputs": [],
   "source": []
  }
 ],
 "metadata": {
  "kernelspec": {
   "display_name": "Python 3 (ipykernel)",
   "language": "python",
   "name": "python3"
  },
  "language_info": {
   "codemirror_mode": {
    "name": "ipython",
    "version": 3
   },
   "file_extension": ".py",
   "mimetype": "text/x-python",
   "name": "python",
   "nbconvert_exporter": "python",
   "pygments_lexer": "ipython3",
   "version": "3.12.2"
  }
 },
 "nbformat": 4,
 "nbformat_minor": 5
}
