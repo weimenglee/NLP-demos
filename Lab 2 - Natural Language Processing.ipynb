{
 "cells": [
  {
   "cell_type": "code",
   "execution_count": null,
   "id": "5d4cf313",
   "metadata": {},
   "outputs": [],
   "source": [
    "!pip install accelerate \n",
    "!pip install transformers\n",
    "!pip install sentencepiece\n",
    "!pip install gradio"
   ]
  },
  {
   "cell_type": "markdown",
   "id": "c81a4288",
   "metadata": {},
   "source": [
    "# Sentiment Classification"
   ]
  },
  {
   "cell_type": "code",
   "execution_count": null,
   "id": "b103fdd5",
   "metadata": {},
   "outputs": [],
   "source": [
    "from transformers import pipeline\n",
    "\n",
    "classifier = pipeline('text-classification',\n",
    "                      model = 'distilbert-base-uncased-finetuned-sst-2-english', \n",
    "                      revision = 'af0f99b')"
   ]
  },
  {
   "cell_type": "code",
   "execution_count": null,
   "id": "c3a3b553",
   "metadata": {},
   "outputs": [],
   "source": [
    "import pandas as pd\n",
    "\n",
    "text = '''\n",
    "I thought this was a wonderful way to spend time on a too hot summer \n",
    "weekend, sitting in the air conditioned theater and watching a \n",
    "light-hearted comedy. The plot is simplistic, but the dialogue is \n",
    "witty and the characters are likable (even the well bread suspected \n",
    "serial killer). While some may be disappointed when they realize \n",
    "this is not Match Point 2: Risk Addiction, I thought it was proof \n",
    "that Woody Allen is still fully in control of the style many of us \n",
    "have grown to love.<br /><br />This was the most I'd laughed at one \n",
    "of Woody's comedies in years (dare I say a decade?). While I've never \n",
    "been impressed with Scarlet Johanson, in this she managed to tone \n",
    "down her \"sexy\" image and jumped right into a average, but spirited \n",
    "young woman.<br /><br />This may not be the crown jewel of his career\n",
    ", but it was wittier than \"Devil Wears Prada\" and more interesting \n",
    "than \"Superman\" a great comedy to go see with friends.\n",
    "'''\n",
    "\n",
    "result = classifier(text)\n",
    "pd.DataFrame(result)"
   ]
  },
  {
   "cell_type": "code",
   "execution_count": null,
   "id": "b3f3ab45",
   "metadata": {},
   "outputs": [],
   "source": [
    "text = '''\n",
    "Encouraged by the positive comments about this film on here I was \n",
    "looking forward to watching this film. Bad mistake. I've seen 950+ \n",
    "films and this is truly one of the worst of them - it's awful in \n",
    "almost every way: editing, pacing, storyline, 'acting,' soundtrack \n",
    "(the film's only song - a lame country tune - is played no less \n",
    "than four times). The film looks cheap and nasty and is boring in \n",
    "the extreme. Rarely have I been so happy to see the end credits of \n",
    "a film. <br /><br />The only thing that prevents me giving this a \n",
    "1-score is Harvey Keitel - while this is far from his best \n",
    "performance he at least seems to be making a bit of an effort. One \n",
    "for Keitel obsessives only.\n",
    "'''\n",
    "\n",
    "result = classifier(text)\n",
    "pd.DataFrame(result)"
   ]
  },
  {
   "cell_type": "code",
   "execution_count": null,
   "id": "d9c370d2-abb9-4358-9e6b-65785bfec834",
   "metadata": {},
   "outputs": [],
   "source": [
    "text = '''\n",
    "It was painful, but at least you learned something from that experience!.\n",
    "'''\n",
    "\n",
    "result = classifier(text)\n",
    "pd.DataFrame(result)"
   ]
  },
  {
   "cell_type": "markdown",
   "id": "cd6f15af-c35e-4dfe-b2e2-625e5ab7775f",
   "metadata": {},
   "source": [
    "## Try It Out!"
   ]
  },
  {
   "cell_type": "code",
   "execution_count": null,
   "id": "de2d42b5-0515-4b7e-8deb-b9fff7231555",
   "metadata": {},
   "outputs": [],
   "source": [
    "import gradio as gr\n",
    "\n",
    "def sentiment_classifier(text):\n",
    "    result = classifier(text)\n",
    "    return result[0]['label'], result[0]['score']\n",
    "    \n",
    "gr.Interface(\n",
    "    fn = sentiment_classifier,\n",
    "    inputs = \"text\",\n",
    "    outputs = \"text\"\n",
    ").launch()"
   ]
  },
  {
   "cell_type": "markdown",
   "id": "b9bcc6d5",
   "metadata": {},
   "source": [
    "# Extracting Named Entities"
   ]
  },
  {
   "cell_type": "code",
   "execution_count": null,
   "id": "9321428b",
   "metadata": {},
   "outputs": [],
   "source": [
    "text = '''\n",
    "Wei-Meng Lee is a technologist and founder of Developer Learning Solutions\n",
    " (http://calender.learn2develop.net), a technology company specializing in\n",
    " hands-on training on the latest technologies. He is an established\n",
    " developer and trainer specializing in Data Science, Blockchain, and Mobile\n",
    " technologies. He is based in Singapore.\n",
    "'''\n",
    "\n",
    "ner = pipeline('ner', aggregation_strategy = 'simple')\n",
    "df = pd.DataFrame(ner(text))\n",
    "df"
   ]
  },
  {
   "cell_type": "code",
   "execution_count": null,
   "id": "7c15b402",
   "metadata": {},
   "outputs": [],
   "source": [
    "ner = pipeline('ner', aggregation_strategy = None)\n",
    "df = pd.DataFrame(ner(text))\n",
    "df"
   ]
  },
  {
   "cell_type": "markdown",
   "id": "3b2f8987-1903-4fc4-b2fd-39b9f8184450",
   "metadata": {},
   "source": [
    "## Try It Out!"
   ]
  },
  {
   "cell_type": "code",
   "execution_count": null,
   "id": "af83fb73-5beb-4b87-add6-9db8dca0fdf9",
   "metadata": {},
   "outputs": [],
   "source": [
    "import gradio as gr\n",
    "\n",
    "def ner_text(text):\n",
    "    result = ner(text)    \n",
    "    return result\n",
    "    \n",
    "gr.Interface(\n",
    "    fn = ner_text,\n",
    "    inputs = \"text\",\n",
    "    outputs = \"text\"\n",
    ").launch()"
   ]
  },
  {
   "cell_type": "markdown",
   "id": "838d6dc1",
   "metadata": {},
   "source": [
    "# Summarizing Text"
   ]
  },
  {
   "cell_type": "code",
   "execution_count": null,
   "id": "ae50fa6b",
   "metadata": {},
   "outputs": [],
   "source": [
    "text = '''\n",
    "A quantum computer is a computer that exploits quantum mechanical \n",
    "phenomena. At small scales, physical matter exhibits properties of \n",
    "both particles and waves, and quantum computing leverages this \n",
    "behavior using specialized hardware. Classical physics cannot \n",
    "explain the operation of these quantum devices, and a scalable \n",
    "quantum computer could perform some calculations exponentially \n",
    "faster than any modern \"classical\" computer. In particular, a \n",
    "large-scale quantum computer could break widely used encryption \n",
    "schemes and aid physicists in performing physical simulations; \n",
    "however, the current state of the art is still largely \n",
    "experimental and impractical.\n",
    "\n",
    "The basic unit of information in quantum computing is the qubit, \n",
    "similar to the bit in traditional digital electronics. Unlike a \n",
    "classical bit, a qubit can exist in a superposition of its two \n",
    "\"basis\" states, which loosely means that it is in both states \n",
    "simultaneously. When measuring a qubit, the result is a \n",
    "probabilistic output of a classical bit. If a quantum computer \n",
    "manipulates the qubit in a particular way, wave interference \n",
    "effects can amplify the desired measurement results. The design \n",
    "of quantum algorithms involves creating procedures that allow a \n",
    "quantum computer to perform calculations efficiently.\n",
    "\n",
    "Physically engineering high-quality qubits has proven challenging. \n",
    "If a physical qubit is not sufficiently isolated from its \n",
    "environment, it suffers from quantum decoherence, introducing noise \n",
    "into calculations. National governments have invested heavily in \n",
    "experimental research that aims to develop scalable qubits with \n",
    "longer coherence times and lower error rates. Two of the most \n",
    "promising technologies are superconductors (which isolate an \n",
    "electrical current by eliminating electrical resistance) and ion \n",
    "traps (which confine a single atomic particle using electromagnetic \n",
    "fields).\n",
    "\n",
    "Any computational problem that can be solved by a classical computer \n",
    "can also be solved by a quantum computer.[2] Conversely, any problem \n",
    "that can be solved by a quantum computer can also be solved by a \n",
    "classical computer, at least in principle given enough time. In other \n",
    "words, quantum computers obey the Church–Turing thesis. This means \n",
    "that while quantum computers provide no additional advantages over \n",
    "classical computers in terms of computability, quantum algorithms \n",
    "for certain problems have significantly lower time complexities than \n",
    "corresponding known classical algorithms. Notably, quantum computers \n",
    "are believed to be able to solve certain problems quickly that no \n",
    "classical computer could solve in any feasible amount of time—a feat \n",
    "known as \"quantum supremacy.\" The study of the computational \n",
    "complexity of problems with respect to quantum computers is known as \n",
    "quantum complexity theory.\n",
    "'''\n",
    "\n",
    "from transformers import pipeline\n",
    "\n",
    "text_summarizer = pipeline('summarization')\n",
    "output = text_summarizer(text, \n",
    "                         max_length = 260, \n",
    "                         clean_up_tokenization_spaces = True)\n",
    "print(output[0]['summary_text'])"
   ]
  },
  {
   "cell_type": "markdown",
   "id": "d7ea6a95-c22e-4103-a44c-31f5108383b5",
   "metadata": {},
   "source": [
    "## Try It Out!!!"
   ]
  },
  {
   "cell_type": "code",
   "execution_count": null,
   "id": "cae0b185-ddec-497b-a7a8-988d4deba5b7",
   "metadata": {},
   "outputs": [],
   "source": [
    "import gradio as gr\n",
    "\n",
    "def summarizer(text):\n",
    "    result = text_summarizer(text, \n",
    "                             max_length = 260, \n",
    "                             clean_up_tokenization_spaces = True)  \n",
    "    \n",
    "    return result[0]['summary_text']\n",
    "    \n",
    "gr.Interface(\n",
    "    fn = summarizer,\n",
    "    inputs = \"text\",\n",
    "    outputs = \"text\"\n",
    ").launch()"
   ]
  },
  {
   "cell_type": "markdown",
   "id": "1dd19ebf",
   "metadata": {},
   "source": [
    "# Translating Text"
   ]
  },
  {
   "cell_type": "code",
   "execution_count": null,
   "id": "36a98c32",
   "metadata": {},
   "outputs": [],
   "source": [
    "translater = pipeline('translation_en_to_fr',\n",
    "                      model = 'google-t5/t5-base')\n",
    "translater('Wikipedia is hosted by the Wikimedia Foundation, a non-profit organization that also hosts a range of other projects.')"
   ]
  },
  {
   "cell_type": "code",
   "execution_count": null,
   "id": "40d207ac",
   "metadata": {},
   "outputs": [],
   "source": [
    "translater = pipeline('translation_en_to_zh', \n",
    "                      model = 'facebook/m2m100_418M')\n",
    "translater('Wikipedia is hosted by the Wikimedia Foundation, a non-profit organization that also hosts a range of other projects.')"
   ]
  },
  {
   "cell_type": "markdown",
   "id": "8a5892ab-2203-4069-90ef-fff88d8f781f",
   "metadata": {},
   "source": [
    "## Try It Out!!!"
   ]
  },
  {
   "cell_type": "code",
   "execution_count": null,
   "id": "217effee-5e81-408b-801f-6f72163f5376",
   "metadata": {},
   "outputs": [],
   "source": [
    "import gradio as gr\n",
    "\n",
    "def translation(text):\n",
    "    result = translater(text)    \n",
    "    return result[0]['translation_text']\n",
    "    \n",
    "gr.Interface(\n",
    "    fn = translation,\n",
    "    inputs = \"text\",\n",
    "    outputs = \"text\"\n",
    ").launch()"
   ]
  },
  {
   "cell_type": "code",
   "execution_count": null,
   "id": "905b7064-1593-4460-8a88-c9d522541d2c",
   "metadata": {},
   "outputs": [],
   "source": []
  }
 ],
 "metadata": {
  "kernelspec": {
   "display_name": "Python 3 (ipykernel)",
   "language": "python",
   "name": "python3"
  },
  "language_info": {
   "codemirror_mode": {
    "name": "ipython",
    "version": 3
   },
   "file_extension": ".py",
   "mimetype": "text/x-python",
   "name": "python",
   "nbconvert_exporter": "python",
   "pygments_lexer": "ipython3",
   "version": "3.12.2"
  }
 },
 "nbformat": 4,
 "nbformat_minor": 5
}
